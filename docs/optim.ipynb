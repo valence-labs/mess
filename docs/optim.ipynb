{
 "cells": [
  {
   "cell_type": "markdown",
   "metadata": {
    "id": "IZAXXQnAdEXS"
   },
   "source": [
    "# Electronic Energy Minimisation\n",
    "\n",
    "A central problem of electronic structure simulations is finding the ground state\n",
    "configuration of many interacting electrons.  Within MESS this is handled by:\n",
    "\n",
    "* building a `Hamiltonian` by selecting how to model the quantum-mechanical interactions\n",
    "  with the `xc_method` argument.\n",
    "* minimisation of the total energy subject to the constraint of orthonormal orbitals.\n",
    "\n",
    "On the second point, there are many possible approaches to solving this constrained\n",
    "optimisation problem.  In the following we setup minimising the total energy with the\n",
    "[Adam optimiser](https://optax.readthedocs.io/en/latest/api/optimizers.html#adam)\n",
    "from the [optax library](https://optax.readthedocs.io/en/latest/index.html).\n",
    "\n",
    "\n",
    ":::{note}\n",
    "The following code cell will install MESS into the Google Colab runtime.\n",
    "Select the 🚀 in the toolbar above to try this out!\n",
    ":::"
   ]
  },
  {
   "cell_type": "code",
   "execution_count": 1,
   "metadata": {
    "colab": {
     "base_uri": "https://localhost:8080/"
    },
    "id": "vll7CYI9dEXT",
    "outputId": "8a42fedc-e48e-48b3-c67a-8871b04897b9",
    "tags": [
     "hide-cell"
    ]
   },
   "outputs": [],
   "source": [
    "import sys\n",
    "\n",
    "if \"google.colab\" in sys.modules:\n",
    "    !pip install mess-jax"
   ]
  },
  {
   "cell_type": "code",
   "execution_count": 2,
   "metadata": {
    "id": "j7HdZdtPdEXU",
    "tags": [
     "hide-cell"
    ]
   },
   "outputs": [
    {
     "name": "stderr",
     "output_type": "stream",
     "text": [
      "2024-10-01 14:03:59.287486: W external/xla/xla/service/gpu/nvptx_compiler.cc:893] The NVIDIA driver's CUDA version is 12.2 which is older than the PTX compiler version 12.6.68. Because the driver is older than the PTX compiler version, XLA is disabling parallel compilation, which may slow down compilation. You should update your NVIDIA driver or use the NVIDIA-provided CUDA forward compatibility packages.\n"
     ]
    }
   ],
   "source": [
    "import jax\n",
    "import jax.numpy as jnp\n",
    "import optax\n",
    "import seaborn as sns\n",
    "from tqdm.notebook import tqdm\n",
    "\n",
    "from mess import Hamiltonian, basisset, molecule\n",
    "from mess.structure import nuclear_energy\n",
    "\n",
    "sns.set_theme(style=\"whitegrid\")"
   ]
  },
  {
   "cell_type": "markdown",
   "metadata": {},
   "source": [
    "To start with we show how to build a molecule by using the samples that are packaged as part of the\n",
    "[pyquante](https://github.com/rpmuller/pyquante2) project.  We use use methane which you can rotate below:"
   ]
  },
  {
   "cell_type": "code",
   "execution_count": 3,
   "metadata": {
    "colab": {
     "base_uri": "https://localhost:8080/",
     "height": 514
    },
    "id": "ltyJE6ZZdEXV",
    "outputId": "8285c552-2da8-4109-a937-ad04e73598e0"
   },
   "outputs": [
    {
     "data": {
      "application/3dmoljs_load.v0": "<div id=\"3dmolviewer_17278130410805218\"  style=\"position: relative; width: 640px; height: 480px;\">\n        <p id=\"3dmolwarning_17278130410805218\" style=\"background-color:#ffcccc;color:black\">3Dmol.js failed to load for some reason.  Please check your browser console for error messages.<br></p>\n        </div>\n<script>\n\nvar loadScriptAsync = function(uri){\n  return new Promise((resolve, reject) => {\n    //this is to ignore the existence of requirejs amd\n    var savedexports, savedmodule;\n    if (typeof exports !== 'undefined') savedexports = exports;\n    else exports = {}\n    if (typeof module !== 'undefined') savedmodule = module;\n    else module = {}\n\n    var tag = document.createElement('script');\n    tag.src = uri;\n    tag.async = true;\n    tag.onload = () => {\n        exports = savedexports;\n        module = savedmodule;\n        resolve();\n    };\n  var firstScriptTag = document.getElementsByTagName('script')[0];\n  firstScriptTag.parentNode.insertBefore(tag, firstScriptTag);\n});\n};\n\nif(typeof $3Dmolpromise === 'undefined') {\n$3Dmolpromise = null;\n  $3Dmolpromise = loadScriptAsync('https://cdnjs.cloudflare.com/ajax/libs/3Dmol/2.4.0/3Dmol-min.js');\n}\n\nvar viewer_17278130410805218 = null;\nvar warn = document.getElementById(\"3dmolwarning_17278130410805218\");\nif(warn) {\n    warn.parentNode.removeChild(warn);\n}\n$3Dmolpromise.then(function() {\nviewer_17278130410805218 = $3Dmol.createViewer(document.getElementById(\"3dmolviewer_17278130410805218\"),{backgroundColor:\"white\"});\nviewer_17278130410805218.zoomTo();\n\tviewer_17278130410805218.addModel(\"5\\n\\nC\\t0.\\t0.\\t0.\\nH\\t0.630878\\t0.630878\\t0.630878\\nH\\t-0.630878\\t-0.630878\\t 0.630878\\nH\\t-0.630878\\t 0.630878\\t-0.630878\\nH\\t 0.630878\\t-0.630878\\t-0.630878\\n\");\n\tviewer_17278130410805218.setStyle({\"stick\": {\"radius\": 0.1}});\nviewer_17278130410805218.render();\n});\n</script>",
      "text/html": [
       "<div id=\"3dmolviewer_17278130410805218\"  style=\"position: relative; width: 640px; height: 480px;\">\n",
       "        <p id=\"3dmolwarning_17278130410805218\" style=\"background-color:#ffcccc;color:black\">3Dmol.js failed to load for some reason.  Please check your browser console for error messages.<br></p>\n",
       "        </div>\n",
       "<script>\n",
       "\n",
       "var loadScriptAsync = function(uri){\n",
       "  return new Promise((resolve, reject) => {\n",
       "    //this is to ignore the existence of requirejs amd\n",
       "    var savedexports, savedmodule;\n",
       "    if (typeof exports !== 'undefined') savedexports = exports;\n",
       "    else exports = {}\n",
       "    if (typeof module !== 'undefined') savedmodule = module;\n",
       "    else module = {}\n",
       "\n",
       "    var tag = document.createElement('script');\n",
       "    tag.src = uri;\n",
       "    tag.async = true;\n",
       "    tag.onload = () => {\n",
       "        exports = savedexports;\n",
       "        module = savedmodule;\n",
       "        resolve();\n",
       "    };\n",
       "  var firstScriptTag = document.getElementsByTagName('script')[0];\n",
       "  firstScriptTag.parentNode.insertBefore(tag, firstScriptTag);\n",
       "});\n",
       "};\n",
       "\n",
       "if(typeof $3Dmolpromise === 'undefined') {\n",
       "$3Dmolpromise = null;\n",
       "  $3Dmolpromise = loadScriptAsync('https://cdnjs.cloudflare.com/ajax/libs/3Dmol/2.4.0/3Dmol-min.js');\n",
       "}\n",
       "\n",
       "var viewer_17278130410805218 = null;\n",
       "var warn = document.getElementById(\"3dmolwarning_17278130410805218\");\n",
       "if(warn) {\n",
       "    warn.parentNode.removeChild(warn);\n",
       "}\n",
       "$3Dmolpromise.then(function() {\n",
       "viewer_17278130410805218 = $3Dmol.createViewer(document.getElementById(\"3dmolviewer_17278130410805218\"),{backgroundColor:\"white\"});\n",
       "viewer_17278130410805218.zoomTo();\n",
       "\tviewer_17278130410805218.addModel(\"5\\n\\nC\\t0.\\t0.\\t0.\\nH\\t0.630878\\t0.630878\\t0.630878\\nH\\t-0.630878\\t-0.630878\\t 0.630878\\nH\\t-0.630878\\t 0.630878\\t-0.630878\\nH\\t 0.630878\\t-0.630878\\t-0.630878\\n\");\n",
       "\tviewer_17278130410805218.setStyle({\"stick\": {\"radius\": 0.1}});\n",
       "viewer_17278130410805218.render();\n",
       "});\n",
       "</script>"
      ]
     },
     "metadata": {},
     "output_type": "display_data"
    },
    {
     "data": {
      "text/plain": [
       "Structure(atomic_number=i64[5](numpy), position=f64[5,3](numpy))"
      ]
     },
     "execution_count": 3,
     "metadata": {},
     "output_type": "execute_result"
    }
   ],
   "source": [
    "mol = molecule(\"methane\")\n",
    "mol"
   ]
  },
  {
   "cell_type": "markdown",
   "metadata": {},
   "source": [
    "Next we build up the components of our simulation:\n",
    "* basis set: describes the linear combination of Gaussian orbitals used to represent the molecular orbitals and from this\n",
    "  representation we can derive the electron density.\n",
    "* Hamiltonian: describing the total energy of the many electrons interacting in the field generated by the nuclear cores.\n",
    "  We use the widely used PBE exchange-correlation approximation of density functional theory.\n",
    "* gradient descent optimiser: we use the [Adam optimiser](https://optax.readthedocs.io/en/latest/api/optimizers.html#adam)\n",
    "  from the [optax library](https://optax.readthedocs.io/en/latest/index.html)."
   ]
  },
  {
   "cell_type": "code",
   "execution_count": 4,
   "metadata": {
    "id": "hFRWuoNGfKNL"
   },
   "outputs": [],
   "source": [
    "basis = basisset(mol, \"6-31g\")\n",
    "H = Hamiltonian(basis, xc_method=\"pbe\")\n",
    "optimiser = optax.adam(learning_rate=0.1)"
   ]
  },
  {
   "cell_type": "markdown",
   "metadata": {
    "id": "SO_LWgGedEXV"
   },
   "source": [
    "Next we define a function that evaluates the total energy given an arbitrary matrix $Z$\n",
    "which applies the orthonormal constraint.  This efffectively converts the minimisation\n",
    "problem into an unconstrained optimisation one."
   ]
  },
  {
   "cell_type": "code",
   "execution_count": 5,
   "metadata": {
    "id": "OsjjbSp1dEXV"
   },
   "outputs": [],
   "source": [
    "E_n = nuclear_energy(mol)\n",
    "\n",
    "\n",
    "@jax.jit\n",
    "@jax.value_and_grad\n",
    "def total_energy(Z):\n",
    "    C = H.orthonormalise(Z)\n",
    "    P = basis.density_matrix(C)\n",
    "    return H(P) + E_n"
   ]
  },
  {
   "cell_type": "markdown",
   "metadata": {
    "id": "cVdMvXmqdEXW"
   },
   "source": [
    "We use a somewhat arbitrary initial guess and use the Adam optimiser to minimise\n",
    "the total energy.  The function transformation\n",
    "[jax.value_and_grad](https://jax.readthedocs.io/en/latest/_autosummary/jax.value_and_grad.html)\n",
    "uses automatic differentiation to evaluate both the energy and the gradient of the\n",
    "energy with respect to the trial matrix $Z$."
   ]
  },
  {
   "cell_type": "code",
   "execution_count": 6,
   "metadata": {
    "colab": {
     "base_uri": "https://localhost:8080/",
     "height": 49,
     "referenced_widgets": [
      "49d87f6d687d4d1792867df58dfc7285",
      "efff16ef036d40609e61cbb5f5ec352a",
      "dfcc15267aa94fc2bff1ccc028577c03",
      "5e99c509239d4323bcefb5915794efd1",
      "a60c8533198943339de7463e9f4237a6",
      "01d8f31284b1483b882967252735b3a0",
      "579afa25b87e4afa9e0d25f7c93eac32",
      "b517275d3b904f83bf7b64d432055f4f",
      "290bc4e3d2e3417ebbe793747a6e4982",
      "f3ee123f9f674af9bc331fd57c6719cd",
      "471677018d09444c868f0e8fc83b8e00"
     ]
    },
    "id": "me721aF3dEXW",
    "outputId": "6ed7b1b8-0289-464b-fd69-7739dc3b1ffe"
   },
   "outputs": [
    {
     "data": {
      "application/vnd.jupyter.widget-view+json": {
       "model_id": "41bd99cb0a034fa082df3ff1ae0e08a7",
       "version_major": 2,
       "version_minor": 0
      },
      "text/plain": [
       "  0%|          | 0/200 [00:00<?, ?it/s]"
      ]
     },
     "metadata": {},
     "output_type": "display_data"
    }
   ],
   "source": [
    "Z = jnp.eye(basis.num_orbitals)\n",
    "state = optimiser.init(Z)\n",
    "history = []\n",
    "\n",
    "for _ in (bar := tqdm(range(200))):\n",
    "    e, grads = total_energy(Z)\n",
    "    updates, state = optimiser.update(grads, state)\n",
    "    Z = optax.apply_updates(Z, updates)\n",
    "    history.append(e)\n",
    "    bar.set_description(f\"Total energy: {e:0.06f} (Hartree)\")"
   ]
  },
  {
   "cell_type": "markdown",
   "metadata": {
    "id": "HLYlayvAdEXW"
   },
   "source": [
    "Next we can look at how the variation in the total energy through the optimisation process."
   ]
  },
  {
   "cell_type": "code",
   "execution_count": 7,
   "metadata": {
    "colab": {
     "base_uri": "https://localhost:8080/",
     "height": 458
    },
    "id": "6uLFoSukdEXW",
    "outputId": "d5609417-10ed-4e21-d8b9-ef077ff03abe"
   },
   "outputs": [
    {
     "data": {
      "image/png": "[encoded data removed]",
      "text/plain": [
       "<Figure size 640x480 with 1 Axes>"
      ]
     },
     "metadata": {},
     "output_type": "display_data"
    }
   ],
   "source": [
    "history = jnp.stack(history)\n",
    "ax = sns.lineplot(history)\n",
    "ax.set_xlabel(\"Iteration\")\n",
    "ax.set_ylabel(\"Total energy (Hartree)\");"
   ]
  }
 ],
 "metadata": {
  "accelerator": "GPU",
  "colab": {
   "gpuType": "A100",
   "machine_shape": "hm",
   "provenance": []
  },
  "kernelspec": {
   "display_name": "Python 3",
   "name": "python3"
  },
  "language_info": {
   "codemirror_mode": {
    "name": "ipython",
    "version": 3
   },
   "file_extension": ".py",
   "mimetype": "text/x-python",
   "name": "python",
   "nbconvert_exporter": "python",
   "pygments_lexer": "ipython3",
   "version": "3.11.10"
  },
  "widgets": {
   "application/vnd.jupyter.widget-state+json": {
    "01d8f31284b1483b882967252735b3a0": {
     "model_module": "@jupyter-widgets/base",
     "model_module_version": "1.2.0",
     "model_name": "LayoutModel",
     "state": {
      "_model_module": "@jupyter-widgets/base",
      "_model_module_version": "1.2.0",
      "_model_name": "LayoutModel",
      "_view_count": null,
      "_view_module": "@jupyter-widgets/base",
      "_view_module_version": "1.2.0",
      "_view_name": "LayoutView",
      "align_content": null,
      "align_items": null,
      "align_self": null,
      "border": null,
      "bottom": null,
      "display": null,
      "flex": null,
      "flex_flow": null,
      "grid_area": null,
      "grid_auto_columns": null,
      "grid_auto_flow": null,
      "grid_auto_rows": null,
      "grid_column": null,
      "grid_gap": null,
      "grid_row": null,
      "grid_template_areas": null,
      "grid_template_columns": null,
      "grid_template_rows": null,
      "height": null,
      "justify_content": null,
      "justify_items": null,
      "left": null,
      "margin": null,
      "max_height": null,
      "max_width": null,
      "min_height": null,
      "min_width": null,
      "object_fit": null,
      "object_position": null,
      "order": null,
      "overflow": null,
      "overflow_x": null,
      "overflow_y": null,
      "padding": null,
      "right": null,
      "top": null,
      "visibility": null,
      "width": null
     }
    },
    "290bc4e3d2e3417ebbe793747a6e4982": {
     "model_module": "@jupyter-widgets/controls",
     "model_module_version": "1.5.0",
     "model_name": "ProgressStyleModel",
     "state": {
      "_model_module": "@jupyter-widgets/controls",
      "_model_module_version": "1.5.0",
      "_model_name": "ProgressStyleModel",
      "_view_count": null,
      "_view_module": "@jupyter-widgets/base",
      "_view_module_version": "1.2.0",
      "_view_name": "StyleView",
      "bar_color": null,
      "description_width": ""
     }
    },
    "471677018d09444c868f0e8fc83b8e00": {
     "model_module": "@jupyter-widgets/controls",
     "model_module_version": "1.5.0",
     "model_name": "DescriptionStyleModel",
     "state": {
      "_model_module": "@jupyter-widgets/controls",
      "_model_module_version": "1.5.0",
      "_model_name": "DescriptionStyleModel",
      "_view_count": null,
      "_view_module": "@jupyter-widgets/base",
      "_view_module_version": "1.2.0",
      "_view_name": "StyleView",
      "description_width": ""
     }
    },
    "49d87f6d687d4d1792867df58dfc7285": {
     "model_module": "@jupyter-widgets/controls",
     "model_module_version": "1.5.0",
     "model_name": "HBoxModel",
     "state": {
      "_dom_classes": [],
      "_model_module": "@jupyter-widgets/controls",
      "_model_module_version": "1.5.0",
      "_model_name": "HBoxModel",
      "_view_count": null,
      "_view_module": "@jupyter-widgets/controls",
      "_view_module_version": "1.5.0",
      "_view_name": "HBoxView",
      "box_style": "",
      "children": [
       "IPY_MODEL_efff16ef036d40609e61cbb5f5ec352a",
       "IPY_MODEL_dfcc15267aa94fc2bff1ccc028577c03",
       "IPY_MODEL_5e99c509239d4323bcefb5915794efd1"
      ],
      "layout": "IPY_MODEL_a60c8533198943339de7463e9f4237a6"
     }
    },
    "579afa25b87e4afa9e0d25f7c93eac32": {
     "model_module": "@jupyter-widgets/controls",
     "model_module_version": "1.5.0",
     "model_name": "DescriptionStyleModel",
     "state": {
      "_model_module": "@jupyter-widgets/controls",
      "_model_module_version": "1.5.0",
      "_model_name": "DescriptionStyleModel",
      "_view_count": null,
      "_view_module": "@jupyter-widgets/base",
      "_view_module_version": "1.2.0",
      "_view_name": "StyleView",
      "description_width": ""
     }
    },
    "5e99c509239d4323bcefb5915794efd1": {
     "model_module": "@jupyter-widgets/controls",
     "model_module_version": "1.5.0",
     "model_name": "HTMLModel",
     "state": {
      "_dom_classes": [],
      "_model_module": "@jupyter-widgets/controls",
      "_model_module_version": "1.5.0",
      "_model_name": "HTMLModel",
      "_view_count": null,
      "_view_module": "@jupyter-widgets/controls",
      "_view_module_version": "1.5.0",
      "_view_name": "HTMLView",
      "description": "",
      "description_tooltip": null,
      "layout": "IPY_MODEL_f3ee123f9f674af9bc331fd57c6719cd",
      "placeholder": "​",
      "style": "IPY_MODEL_471677018d09444c868f0e8fc83b8e00",
      "value": " 200/200 [00:03&lt;00:00, 164.82it/s]"
     }
    },
    "a60c8533198943339de7463e9f4237a6": {
     "model_module": "@jupyter-widgets/base",
     "model_module_version": "1.2.0",
     "model_name": "LayoutModel",
     "state": {
      "_model_module": "@jupyter-widgets/base",
      "_model_module_version": "1.2.0",
      "_model_name": "LayoutModel",
      "_view_count": null,
      "_view_module": "@jupyter-widgets/base",
      "_view_module_version": "1.2.0",
      "_view_name": "LayoutView",
      "align_content": null,
      "align_items": null,
      "align_self": null,
      "border": null,
      "bottom": null,
      "display": null,
      "flex": null,
      "flex_flow": null,
      "grid_area": null,
      "grid_auto_columns": null,
      "grid_auto_flow": null,
      "grid_auto_rows": null,
      "grid_column": null,
      "grid_gap": null,
      "grid_row": null,
      "grid_template_areas": null,
      "grid_template_columns": null,
      "grid_template_rows": null,
      "height": null,
      "justify_content": null,
      "justify_items": null,
      "left": null,
      "margin": null,
      "max_height": null,
      "max_width": null,
      "min_height": null,
      "min_width": null,
      "object_fit": null,
      "object_position": null,
      "order": null,
      "overflow": null,
      "overflow_x": null,
      "overflow_y": null,
      "padding": null,
      "right": null,
      "top": null,
      "visibility": null,
      "width": null
     }
    },
    "b517275d3b904f83bf7b64d432055f4f": {
     "model_module": "@jupyter-widgets/base",
     "model_module_version": "1.2.0",
     "model_name": "LayoutModel",
     "state": {
      "_model_module": "@jupyter-widgets/base",
      "_model_module_version": "1.2.0",
      "_model_name": "LayoutModel",
      "_view_count": null,
      "_view_module": "@jupyter-widgets/base",
      "_view_module_version": "1.2.0",
      "_view_name": "LayoutView",
      "align_content": null,
      "align_items": null,
      "align_self": null,
      "border": null,
      "bottom": null,
      "display": null,
      "flex": null,
      "flex_flow": null,
      "grid_area": null,
      "grid_auto_columns": null,
      "grid_auto_flow": null,
      "grid_auto_rows": null,
      "grid_column": null,
      "grid_gap": null,
      "grid_row": null,
      "grid_template_areas": null,
      "grid_template_columns": null,
      "grid_template_rows": null,
      "height": null,
      "justify_content": null,
      "justify_items": null,
      "left": null,
      "margin": null,
      "max_height": null,
      "max_width": null,
      "min_height": null,
      "min_width": null,
      "object_fit": null,
      "object_position": null,
      "order": null,
      "overflow": null,
      "overflow_x": null,
      "overflow_y": null,
      "padding": null,
      "right": null,
      "top": null,
      "visibility": null,
      "width": null
     }
    },
    "dfcc15267aa94fc2bff1ccc028577c03": {
     "model_module": "@jupyter-widgets/controls",
     "model_module_version": "1.5.0",
     "model_name": "FloatProgressModel",
     "state": {
      "_dom_classes": [],
      "_model_module": "@jupyter-widgets/controls",
      "_model_module_version": "1.5.0",
      "_model_name": "FloatProgressModel",
      "_view_count": null,
      "_view_module": "@jupyter-widgets/controls",
      "_view_module_version": "1.5.0",
      "_view_name": "ProgressView",
      "bar_style": "success",
      "description": "",
      "description_tooltip": null,
      "layout": "IPY_MODEL_b517275d3b904f83bf7b64d432055f4f",
      "max": 200,
      "min": 0,
      "orientation": "horizontal",
      "style": "IPY_MODEL_290bc4e3d2e3417ebbe793747a6e4982",
      "value": 200
     }
    },
    "efff16ef036d40609e61cbb5f5ec352a": {
     "model_module": "@jupyter-widgets/controls",
     "model_module_version": "1.5.0",
     "model_name": "HTMLModel",
     "state": {
      "_dom_classes": [],
      "_model_module": "@jupyter-widgets/controls",
      "_model_module_version": "1.5.0",
      "_model_name": "HTMLModel",
      "_view_count": null,
      "_view_module": "@jupyter-widgets/controls",
      "_view_module_version": "1.5.0",
      "_view_name": "HTMLView",
      "description": "",
      "description_tooltip": null,
      "layout": "IPY_MODEL_01d8f31284b1483b882967252735b3a0",
      "placeholder": "​",
      "style": "IPY_MODEL_579afa25b87e4afa9e0d25f7c93eac32",
      "value": "Total energy: -40.437987 (Hartree): 100%"
     }
    },
    "f3ee123f9f674af9bc331fd57c6719cd": {
     "model_module": "@jupyter-widgets/base",
     "model_module_version": "1.2.0",
     "model_name": "LayoutModel",
     "state": {
      "_model_module": "@jupyter-widgets/base",
      "_model_module_version": "1.2.0",
      "_model_name": "LayoutModel",
      "_view_count": null,
      "_view_module": "@jupyter-widgets/base",
      "_view_module_version": "1.2.0",
      "_view_name": "LayoutView",
      "align_content": null,
      "align_items": null,
      "align_self": null,
      "border": null,
      "bottom": null,
      "display": null,
      "flex": null,
      "flex_flow": null,
      "grid_area": null,
      "grid_auto_columns": null,
      "grid_auto_flow": null,
      "grid_auto_rows": null,
      "grid_column": null,
      "grid_gap": null,
      "grid_row": null,
      "grid_template_areas": null,
      "grid_template_columns": null,
      "grid_template_rows": null,
      "height": null,
      "justify_content": null,
      "justify_items": null,
      "left": null,
      "margin": null,
      "max_height": null,
      "max_width": null,
      "min_height": null,
      "min_width": null,
      "object_fit": null,
      "object_position": null,
      "order": null,
      "overflow": null,
      "overflow_x": null,
      "overflow_y": null,
      "padding": null,
      "right": null,
      "top": null,
      "visibility": null,
      "width": null
     }
    }
   }
  }
 },
 "nbformat": 4,
 "nbformat_minor": 0
}
